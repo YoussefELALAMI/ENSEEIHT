{
 "cells": [
  {
   "cell_type": "markdown",
   "metadata": {},
   "source": [
    "<center>\n",
    "<h1> TP-Projet d'optimisation numérique </h1>\n",
    "<h1> Algorithme du lagrangien augmenté </h1>\n",
    "</center>"
   ]
  },
  {
   "cell_type": "markdown",
   "metadata": {},
   "source": [
    "## Implémentation\n",
    "\n",
    "1. Implémenter l'algorithme du lagrangien augmenté, en utilisant les différentes méthodes\n",
    "qui ont été vues en première partie pour la résolution de la suite de problèmes sans\n",
    "contraintes (fichier `src/lagrangien_augmente.jl`). La spécification est donnée dans le fichier.\n",
    "2. Vérifier que les tests ci-dessous passent.\n",
    " "
   ]
  },
  {
   "cell_type": "code",
   "execution_count": 2,
   "metadata": {},
   "outputs": [
    {
     "name": "stdout",
     "output_type": "stream",
     "text": [
      "Affichage des résultats des algorithmes : true\n",
      "\n",
      "-------------------------------------------------------------------------\n",
      "\u001b[34m\u001b[1mRésultats de : LA et newton appliqué à f1:\u001b[22m\u001b[39m\n",
      "  * x0       = [0, 1, 1]\n",
      "  * x_sol    = [0.5000042424566808, 1.2499978787716595, 0.5000042424566811]\n",
      "  * f(x_sol) = 3\n",
      "  * nb_iters = 7\n",
      "  * flag     = 0\n",
      "  * solution = [0.5, 1.25, 0.5]\n",
      "-------------------------------------------------------------------------\n",
      "\u001b[34m\u001b[1mRésultats de : LA et newton appliqué à f1:\u001b[22m\u001b[39m\n",
      "  * x0       = [0.5, 1.25, 1.0]\n",
      "  * x_sol    = [0.5000042424566808, 1.2499978787716595, 0.5000042424566811]\n",
      "  * f(x_sol) = 0.75\n",
      "  * nb_iters = 7\n",
      "  * flag     = 0\n",
      "  * solution = [0.5, 1.25, 0.5]\n",
      "-------------------------------------------------------------------------\n",
      "\u001b[34m\u001b[1mRésultats de : LA et newton appliqué à f2:\u001b[22m\u001b[39m\n",
      "  * x0       = [1, 0]\n",
      "  * x_sol    = [0.9072338859288741, 0.8227553207255176]\n",
      "  * f(x_sol) = 100\n",
      "  * nb_iters = 5\n",
      "  * flag     = 0\n",
      "  * solution = [0.9072339605110892, 0.82275545631455]\n",
      "-------------------------------------------------------------------------\n",
      "\u001b[34m\u001b[1mRésultats de : LA et newton appliqué à f2:\u001b[22m\u001b[39m\n",
      "  * x0       = [0.8660254037844386, 0.8660254037844386]\n",
      "  * x_sol    = [0.9072338859288741, 0.8227553207255176]\n",
      "  * f(x_sol) = 1.3641386247653273\n",
      "  * nb_iters = 5\n",
      "  * flag     = 0\n",
      "  * solution = [0.9072339605110892, 0.82275545631455]\n",
      "-------------------------------------------------------------------------\n",
      "\u001b[34m\u001b[1mRésultats de : LA et rc-cauchy appliqué à f1:\u001b[22m\u001b[39m\n",
      "  * x0       = [0, 1, 1]\n",
      "  * x_sol    = [0.5000042173506274, 1.2499978582161777, 0.500004349472186]\n",
      "  * f(x_sol) = 3\n",
      "  * nb_iters = 7\n",
      "  * flag     = 0\n",
      "  * solution = [0.5, 1.25, 0.5]\n",
      "-------------------------------------------------------------------------\n",
      "\u001b[34m\u001b[1mRésultats de : LA et rc-cauchy appliqué à f1:\u001b[22m\u001b[39m\n",
      "  * x0       = [0.5, 1.25, 1.0]\n",
      "  * x_sol    = [0.5000042163584932, 1.249997858802231, 0.5000043481217972]\n",
      "  * f(x_sol) = 0.75\n",
      "  * nb_iters = 7\n",
      "  * flag     = 0\n",
      "  * solution = [0.5, 1.25, 0.5]\n",
      "-------------------------------------------------------------------------\n",
      "\u001b[34m\u001b[1mRésultats de : LA et rc-cauchy appliqué à f2:\u001b[22m\u001b[39m\n",
      "  * x0       = [1, 0]\n",
      "  * x_sol    = [0.9072340161750595, 0.8227555575091694]\n",
      "  * f(x_sol) = 100\n",
      "  * nb_iters = 5\n",
      "  * flag     = 0\n",
      "  * solution = [0.9072339605110892, 0.82275545631455]\n",
      "-------------------------------------------------------------------------\n",
      "\u001b[34m\u001b[1mRésultats de : LA et rc-cauchy appliqué à f2:\u001b[22m\u001b[39m\n",
      "  * x0       = [0.8660254037844386, 0.8660254037844386]\n",
      "  * x_sol    = [0.9072340161750595, 0.8227555575091695]\n",
      "  * f(x_sol) = 1.3641386247653273\n",
      "  * nb_iters = 5\n",
      "  * flag     = 0\n",
      "  * solution = [0.9072339605110892, 0.82275545631455]\n",
      "-------------------------------------------------------------------------\n",
      "\u001b[34m\u001b[1mRésultats de : LA et rc-gct appliqué à f1:\u001b[22m\u001b[39m\n",
      "  * x0       = [0, 1, 1]\n",
      "  * x_sol    = [0.500004242456681, 1.2499978787716595, 0.500004242456681]\n",
      "  * f(x_sol) = 3\n",
      "  * nb_iters = 7\n",
      "  * flag     = 0\n",
      "  * solution = [0.5, 1.25, 0.5]\n",
      "-------------------------------------------------------------------------\n",
      "\u001b[34m\u001b[1mRésultats de : LA et rc-gct appliqué à f1:\u001b[22m\u001b[39m\n",
      "  * x0       = [0.5, 1.25, 1.0]\n",
      "  * x_sol    = [0.500004242456681, 1.2499978787716595, 0.500004242456681]\n",
      "  * f(x_sol) = 0.75\n",
      "  * nb_iters = 7\n",
      "  * flag     = 0\n",
      "  * solution = [0.5, 1.25, 0.5]\n",
      "-------------------------------------------------------------------------\n",
      "\u001b[34m\u001b[1mRésultats de : LA et rc-gct appliqué à f2:\u001b[22m\u001b[39m\n",
      "  * x0       = [1, 0]\n",
      "  * x_sol    = [0.9072338859288741, 0.8227553207255176]\n",
      "  * f(x_sol) = 100\n",
      "  * nb_iters = 5\n",
      "  * flag     = 0\n",
      "  * solution = [0.9072339605110892, 0.82275545631455]\n",
      "-------------------------------------------------------------------------\n",
      "\u001b[34m\u001b[1mRésultats de : LA et rc-gct appliqué à f2:\u001b[22m\u001b[39m\n",
      "  * x0       = [0.8660254037844386, 0.8660254037844386]\n",
      "  * x_sol    = [0.9072338859288741, 0.8227553207255176]\n",
      "  * f(x_sol) = 1.3641386247653273\n",
      "  * nb_iters = 5\n",
      "  * flag     = 0\n",
      "  * solution = [0.9072339605110892, 0.82275545631455]\n",
      "\u001b[0m\u001b[1mTest Summary:         | \u001b[22m\u001b[32m\u001b[1mPass  \u001b[22m\u001b[39m\u001b[36m\u001b[1mTotal  \u001b[22m\u001b[39m\u001b[0m\u001b[1mTime\u001b[22m\n",
      "Lagrangien augmenté   | \u001b[32m  12  \u001b[39m\u001b[36m   12  \u001b[39m\u001b[0m5.8s\n"
     ]
    }
   ],
   "source": [
    "include(\"../src/lagrangien_augmente.jl\")\n",
    "include(\"../test/tester_lagrangien_augmente.jl\")\n",
    "\n",
    "#\n",
    "afficher = true # si true, alors affiche les résultats des algorithmes\n",
    "\n",
    "#\n",
    "tester_lagrangien_augmente(lagrangien_augmente, afficher);"
   ]
  },
  {
   "cell_type": "markdown",
   "metadata": {},
   "source": [
    "## Interprétation\n",
    "\n",
    " 1. Commenter les résultats obtenus, en étudiant notamment les valeurs en sortie de $\\lambda_k$ et $\\mu_k$.\n",
    " 2. Étudier l'influence du paramètre $\\tau$ dans la performance de l'algorithme. Pour cela Vous réaliserez des tests numériques."
   ]
  },
  {
   "cell_type": "code",
   "execution_count": 3,
   "metadata": {},
   "outputs": [
    {
     "ename": "LoadError",
     "evalue": "σj est négatif",
     "output_type": "error",
     "traceback": [
      "σj est négatif",
      "",
      "Stacktrace:",
      " [1] error(s::String)",
      "   @ Base ./error.jl:35",
      " [2] gct(g::Vector{Float64}, H::Matrix{Float64}, Δ::Float64; max_iter::Int64, tol_abs::Float64, tol_rel::Float64)",
      "   @ Main ~/Bureau/2A/S7/OptimisationNumerique/projet-optinum/src/gct.jl:86",
      " [3] regions_de_confiance(f::var\"#LA#34\"{typeof(fct1), typeof(contrainte1)}, gradf::var\"#gradLA#36\"{typeof(contrainte1), typeof(grad_contrainte1), var\"#gradL#35\"{typeof(grad_fct1), typeof(grad_contrainte1)}}, hessf::var\"#hessLA#38\"{typeof(contrainte1), typeof(grad_contrainte1), typeof(hess_contrainte1), var\"#hessL#37\"{typeof(hess_fct1), typeof(hess_contrainte1)}}, x0::Vector{Float64}; max_iter::Int64, tol_abs::Float64, tol_rel::Float64, epsilon::Int64, Δ0::Int64, Δmax::Int64, γ1::Float64, γ2::Int64, η1::Float64, η2::Float64, algo_pas::String, max_iter_gct::Int64)",
      "   @ Main ~/Bureau/2A/S7/OptimisationNumerique/projet-optinum/src/regions_de_confiance.jl:91",
      " [4] lagrangien_augmente(f::typeof(fct1), gradf::typeof(grad_fct1), hessf::typeof(hess_fct1), c::typeof(contrainte1), gradc::typeof(grad_contrainte1), hessc::typeof(hess_contrainte1), x0::Vector{Int64}; max_iter::Int64, tol_abs::Float64, tol_rel::Float64, λ0::Int64, μ0::Int64, τ::Int64, algo_noc::String)",
      "   @ Main ~/Bureau/2A/S7/OptimisationNumerique/projet-optinum/src/lagrangien_augmente.jl:110",
      " [5] lagrangien_augmente(f::Function, gradf::Function, hessf::Function, c::Function, gradc::Function, hessc::Function, x0::Vector{Int64})",
      "   @ Main ~/Bureau/2A/S7/OptimisationNumerique/projet-optinum/src/lagrangien_augmente.jl:60",
      " [6] top-level scope",
      "   @ In[3]:7"
     ]
    }
   ],
   "source": [
    "include(\"../src/regions_de_confiance.jl\")\n",
    "include(\"../src/newton.jl\")         # votre algorithme de Newton\n",
    "include(\"../src/lagrangien_augmente.jl\")\n",
    "include(\"../test/fonctions_de_tests.jl\")\n",
    "using Plots\n",
    "\n",
    "_,_,_,_,u,lambda = lagrangien_augmente(fct1, grad_fct1, hess_fct1, contrainte1, grad_contrainte1, hess_contrainte1, x01)\n",
    "\n",
    "# 𝜆𝑘\n",
    "n = length(lambda)\n",
    "lambda_value = range(1, n, length=n)\n",
    "courbe_lambda = plot(lambda, xlabel = \"\", ylabel = \"lambda\", title = \"Etude de lambda\", legend = false)\n",
    "\n",
    "# 𝜇𝑘\n",
    "n = length(u)\n",
    "mu_value = range(1, n, length=n)\n",
    "courbe_mu = plot(mu_value, u, xlabel = \"\", ylabel = \"mu\", title = \"Etude de mu\", legend = false)\n",
    "\n",
    "plot(courbe_lambda, courbe_mu)"
   ]
  },
  {
   "cell_type": "code",
   "execution_count": 22,
   "metadata": {},
   "outputs": [
    {
     "data": {
      "text/plain": [
       "8-element Vector{Int64}:\n",
       " 10\n",
       " 20\n",
       " 40\n",
       " 40\n",
       " 40\n",
       " 40\n",
       " 40\n",
       " 40"
      ]
     },
     "execution_count": 22,
     "metadata": {},
     "output_type": "execute_result"
    }
   ],
   "source": []
  },
  {
   "cell_type": "code",
   "execution_count": null,
   "metadata": {},
   "outputs": [],
   "source": []
  }
 ],
 "metadata": {
  "kernelspec": {
   "display_name": "Julia 1.8.2 - N7",
   "language": "julia",
   "name": "julia-1.8-n7"
  },
  "language_info": {
   "file_extension": ".jl",
   "mimetype": "application/julia",
   "name": "julia",
   "version": "1.8.2"
  }
 },
 "nbformat": 4,
 "nbformat_minor": 4
}
